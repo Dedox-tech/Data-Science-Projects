{
 "cells": [
  {
   "cell_type": "markdown",
   "metadata": {},
   "source": [
    "# Prediction of the Effectiveness of a Marketing Campaign using a Cost-Sensitive Decision Tree"
   ]
  },
  {
   "cell_type": "markdown",
   "metadata": {},
   "source": [
    "In this Notebook I am going to analyze the effectiveness of a bank telemarketing campaing. The data was extracted from the Machine Learning Repository of University of California Irvine. The task in this dataset is to predict whatever a telemarketing campaing will success or will not. The campaing was led for a Portuguese Bank. Basically, an operator makes a phone to a client and then the operator ask to him/her if would like to suscribe to a product (bank term deposit). So the goal is predict if a given client will suscribe to the term deposit or not."
   ]
  },
  {
   "cell_type": "markdown",
   "metadata": {},
   "source": [
    "Since this dataset is an imbalanced one, I will use a Cost-Sensitive approach for dealing this issue. The algorithm chosen was a standard Decision Tree because the literature shows that perform very well in this cases. Typically, Ensemble Decision Trees (such Random Forest, Gradient Boosting) perform better than a single Decision Tree. However, these algorithms usually are biased for the majority class. So this was the reason for my choice. Let's jump in to the code:"
   ]
  },
  {
   "cell_type": "markdown",
   "metadata": {},
   "source": [
    "# 1. Getting started"
   ]
  },
  {
   "cell_type": "markdown",
   "metadata": {},
   "source": [
    "The Python Libraries are the following:"
   ]
  },
  {
   "cell_type": "code",
   "execution_count": 1,
   "metadata": {},
   "outputs": [],
   "source": [
    "#Libraries\n",
    "import pandas as pd\n",
    "import matplotlib.pyplot as plt\n",
    "import scikitplot as skplt\n",
    "import graphviz\n",
    "\n",
    "from sklearn.preprocessing import LabelEncoder\n",
    "from sklearn.tree import DecisionTreeClassifier\n",
    "from sklearn.model_selection  import train_test_split\n",
    "from sklearn import metrics\n",
    "from sklearn.tree import export_graphviz"
   ]
  },
  {
   "cell_type": "markdown",
   "metadata": {},
   "source": [
    "The dataset is stored in an Excel file. So I am going to use Pandas for reading and storing the file in a Pandas DataFrame:"
   ]
  },
  {
   "cell_type": "code",
   "execution_count": 2,
   "metadata": {},
   "outputs": [],
   "source": [
    "#Reading Excel\n",
    "dataset = pd.read_excel(\"C:/Diego/Estudio/General y obras/PYTHON PROGRAMACION/POO/Machine Learning/Task in dataset/Bank Marketing/Bank-full.xlsx\")"
   ]
  },
  {
   "cell_type": "markdown",
   "metadata": {},
   "source": [
    "# 2. Data Exploration"
   ]
  },
  {
   "cell_type": "markdown",
   "metadata": {},
   "source": [
    "First of all, we need to understand our data and what are the principal features:"
   ]
  },
  {
   "cell_type": "code",
   "execution_count": 3,
   "metadata": {},
   "outputs": [
    {
     "data": {
      "text/html": [
       "<div>\n",
       "<style scoped>\n",
       "    .dataframe tbody tr th:only-of-type {\n",
       "        vertical-align: middle;\n",
       "    }\n",
       "\n",
       "    .dataframe tbody tr th {\n",
       "        vertical-align: top;\n",
       "    }\n",
       "\n",
       "    .dataframe thead th {\n",
       "        text-align: right;\n",
       "    }\n",
       "</style>\n",
       "<table border=\"1\" class=\"dataframe\">\n",
       "  <thead>\n",
       "    <tr style=\"text-align: right;\">\n",
       "      <th></th>\n",
       "      <th>age</th>\n",
       "      <th>job</th>\n",
       "      <th>marital</th>\n",
       "      <th>education</th>\n",
       "      <th>default</th>\n",
       "      <th>balance</th>\n",
       "      <th>housing</th>\n",
       "      <th>loan</th>\n",
       "      <th>contact</th>\n",
       "      <th>day</th>\n",
       "      <th>month</th>\n",
       "      <th>duration</th>\n",
       "      <th>campaign</th>\n",
       "      <th>pdays</th>\n",
       "      <th>previous</th>\n",
       "      <th>poutcome</th>\n",
       "      <th>y</th>\n",
       "    </tr>\n",
       "  </thead>\n",
       "  <tbody>\n",
       "    <tr>\n",
       "      <td>0</td>\n",
       "      <td>58</td>\n",
       "      <td>management</td>\n",
       "      <td>married</td>\n",
       "      <td>tertiary</td>\n",
       "      <td>no</td>\n",
       "      <td>2143</td>\n",
       "      <td>yes</td>\n",
       "      <td>no</td>\n",
       "      <td>unknown</td>\n",
       "      <td>5</td>\n",
       "      <td>may</td>\n",
       "      <td>261</td>\n",
       "      <td>1</td>\n",
       "      <td>-1</td>\n",
       "      <td>0</td>\n",
       "      <td>unknown</td>\n",
       "      <td>no</td>\n",
       "    </tr>\n",
       "    <tr>\n",
       "      <td>1</td>\n",
       "      <td>44</td>\n",
       "      <td>technician</td>\n",
       "      <td>single</td>\n",
       "      <td>secondary</td>\n",
       "      <td>no</td>\n",
       "      <td>29</td>\n",
       "      <td>yes</td>\n",
       "      <td>no</td>\n",
       "      <td>unknown</td>\n",
       "      <td>5</td>\n",
       "      <td>may</td>\n",
       "      <td>151</td>\n",
       "      <td>1</td>\n",
       "      <td>-1</td>\n",
       "      <td>0</td>\n",
       "      <td>unknown</td>\n",
       "      <td>no</td>\n",
       "    </tr>\n",
       "    <tr>\n",
       "      <td>2</td>\n",
       "      <td>33</td>\n",
       "      <td>entrepreneur</td>\n",
       "      <td>married</td>\n",
       "      <td>secondary</td>\n",
       "      <td>no</td>\n",
       "      <td>2</td>\n",
       "      <td>yes</td>\n",
       "      <td>yes</td>\n",
       "      <td>unknown</td>\n",
       "      <td>5</td>\n",
       "      <td>may</td>\n",
       "      <td>76</td>\n",
       "      <td>1</td>\n",
       "      <td>-1</td>\n",
       "      <td>0</td>\n",
       "      <td>unknown</td>\n",
       "      <td>no</td>\n",
       "    </tr>\n",
       "    <tr>\n",
       "      <td>3</td>\n",
       "      <td>47</td>\n",
       "      <td>blue-collar</td>\n",
       "      <td>married</td>\n",
       "      <td>unknown</td>\n",
       "      <td>no</td>\n",
       "      <td>1506</td>\n",
       "      <td>yes</td>\n",
       "      <td>no</td>\n",
       "      <td>unknown</td>\n",
       "      <td>5</td>\n",
       "      <td>may</td>\n",
       "      <td>92</td>\n",
       "      <td>1</td>\n",
       "      <td>-1</td>\n",
       "      <td>0</td>\n",
       "      <td>unknown</td>\n",
       "      <td>no</td>\n",
       "    </tr>\n",
       "    <tr>\n",
       "      <td>4</td>\n",
       "      <td>33</td>\n",
       "      <td>unknown</td>\n",
       "      <td>single</td>\n",
       "      <td>unknown</td>\n",
       "      <td>no</td>\n",
       "      <td>1</td>\n",
       "      <td>no</td>\n",
       "      <td>no</td>\n",
       "      <td>unknown</td>\n",
       "      <td>5</td>\n",
       "      <td>may</td>\n",
       "      <td>198</td>\n",
       "      <td>1</td>\n",
       "      <td>-1</td>\n",
       "      <td>0</td>\n",
       "      <td>unknown</td>\n",
       "      <td>no</td>\n",
       "    </tr>\n",
       "  </tbody>\n",
       "</table>\n",
       "</div>"
      ],
      "text/plain": [
       "   age           job  marital  education default  balance housing loan  \\\n",
       "0   58    management  married   tertiary      no     2143     yes   no   \n",
       "1   44    technician   single  secondary      no       29     yes   no   \n",
       "2   33  entrepreneur  married  secondary      no        2     yes  yes   \n",
       "3   47   blue-collar  married    unknown      no     1506     yes   no   \n",
       "4   33       unknown   single    unknown      no        1      no   no   \n",
       "\n",
       "   contact  day month  duration  campaign  pdays  previous poutcome   y  \n",
       "0  unknown    5   may       261         1     -1         0  unknown  no  \n",
       "1  unknown    5   may       151         1     -1         0  unknown  no  \n",
       "2  unknown    5   may        76         1     -1         0  unknown  no  \n",
       "3  unknown    5   may        92         1     -1         0  unknown  no  \n",
       "4  unknown    5   may       198         1     -1         0  unknown  no  "
      ]
     },
     "execution_count": 3,
     "metadata": {},
     "output_type": "execute_result"
    }
   ],
   "source": [
    "dataset.head()"
   ]
  },
  {
   "cell_type": "markdown",
   "metadata": {},
   "source": [
    "Here we can see a general explanation about the features:\n",
    "\n",
    "1. age (no need of further explanation)\n",
    "\n",
    "2. job: type of job (example: admin, blue-collar, entrepreneur, housemaid, management, etc)\n",
    "\n",
    "3. marital: marital status (example: divorce, married, single)\n",
    "\n",
    "4. education (example: high.school, university degree)\n",
    "\n",
    "5. default: has credit in default? (answer: yes or no)\n",
    "\n",
    "6. housing: has housing loan? (answer: yes or no)\n",
    "\n",
    "7. loan: has personal loan? (answer: yes or no)\n",
    "\n",
    "8. contact: contact communication type (example: cellular,telephone, etc)\n",
    "\n",
    "9. month: last contact month of year (example: jan, feb, mar, ..., nov, dec)\n",
    "\n",
    "10. day_of_week: last contact day of the week (example: mon, tue, wed, thu, fri)\n",
    "\n",
    "11. duration: last contact duration, in seconds (numeric).\n",
    "\n",
    "12. campaign: number of contacts performed during this campaign and for this client (numeric)\n",
    "\n",
    "13. pdays: number of days that passed by after the client was last contacted from a previous campaign (numeric)\n",
    "\n",
    "14. previous: number of contacts performed before this campaign and for this client (numeric)\n",
    "\n",
    "15. poutcome: outcome of the previous marketing campaign (example: failure, nonexistent, success)\n",
    "\n",
    "16. y: target value (yes or no)"
   ]
  },
  {
   "cell_type": "markdown",
   "metadata": {},
   "source": [
    "The dataset has not any missing value:"
   ]
  },
  {
   "cell_type": "code",
   "execution_count": 4,
   "metadata": {},
   "outputs": [
    {
     "name": "stdout",
     "output_type": "stream",
     "text": [
      "<class 'pandas.core.frame.DataFrame'>\n",
      "RangeIndex: 45211 entries, 0 to 45210\n",
      "Data columns (total 17 columns):\n",
      "age          45211 non-null int64\n",
      "job          45211 non-null object\n",
      "marital      45211 non-null object\n",
      "education    45211 non-null object\n",
      "default      45211 non-null object\n",
      "balance      45211 non-null int64\n",
      "housing      45211 non-null object\n",
      "loan         45211 non-null object\n",
      "contact      45211 non-null object\n",
      "day          45211 non-null int64\n",
      "month        45211 non-null object\n",
      "duration     45211 non-null int64\n",
      "campaign     45211 non-null int64\n",
      "pdays        45211 non-null int64\n",
      "previous     45211 non-null int64\n",
      "poutcome     45211 non-null object\n",
      "y            45211 non-null object\n",
      "dtypes: int64(7), object(10)\n",
      "memory usage: 5.9+ MB\n"
     ]
    }
   ],
   "source": [
    "dataset.info()"
   ]
  },
  {
   "cell_type": "markdown",
   "metadata": {},
   "source": [
    "Descriptive statistics of the dataset are the following:"
   ]
  },
  {
   "cell_type": "code",
   "execution_count": 5,
   "metadata": {},
   "outputs": [
    {
     "data": {
      "text/html": [
       "<div>\n",
       "<style scoped>\n",
       "    .dataframe tbody tr th:only-of-type {\n",
       "        vertical-align: middle;\n",
       "    }\n",
       "\n",
       "    .dataframe tbody tr th {\n",
       "        vertical-align: top;\n",
       "    }\n",
       "\n",
       "    .dataframe thead th {\n",
       "        text-align: right;\n",
       "    }\n",
       "</style>\n",
       "<table border=\"1\" class=\"dataframe\">\n",
       "  <thead>\n",
       "    <tr style=\"text-align: right;\">\n",
       "      <th></th>\n",
       "      <th>age</th>\n",
       "      <th>balance</th>\n",
       "      <th>day</th>\n",
       "      <th>duration</th>\n",
       "      <th>campaign</th>\n",
       "      <th>pdays</th>\n",
       "      <th>previous</th>\n",
       "    </tr>\n",
       "  </thead>\n",
       "  <tbody>\n",
       "    <tr>\n",
       "      <td>count</td>\n",
       "      <td>45211.000000</td>\n",
       "      <td>45211.000000</td>\n",
       "      <td>45211.000000</td>\n",
       "      <td>45211.000000</td>\n",
       "      <td>45211.000000</td>\n",
       "      <td>45211.000000</td>\n",
       "      <td>45211.000000</td>\n",
       "    </tr>\n",
       "    <tr>\n",
       "      <td>mean</td>\n",
       "      <td>40.936210</td>\n",
       "      <td>1362.272058</td>\n",
       "      <td>15.806419</td>\n",
       "      <td>258.163080</td>\n",
       "      <td>2.763841</td>\n",
       "      <td>40.197828</td>\n",
       "      <td>0.580323</td>\n",
       "    </tr>\n",
       "    <tr>\n",
       "      <td>std</td>\n",
       "      <td>10.618762</td>\n",
       "      <td>3044.765829</td>\n",
       "      <td>8.322476</td>\n",
       "      <td>257.527812</td>\n",
       "      <td>3.098021</td>\n",
       "      <td>100.128746</td>\n",
       "      <td>2.303441</td>\n",
       "    </tr>\n",
       "    <tr>\n",
       "      <td>min</td>\n",
       "      <td>18.000000</td>\n",
       "      <td>-8019.000000</td>\n",
       "      <td>1.000000</td>\n",
       "      <td>0.000000</td>\n",
       "      <td>1.000000</td>\n",
       "      <td>-1.000000</td>\n",
       "      <td>0.000000</td>\n",
       "    </tr>\n",
       "    <tr>\n",
       "      <td>25%</td>\n",
       "      <td>33.000000</td>\n",
       "      <td>72.000000</td>\n",
       "      <td>8.000000</td>\n",
       "      <td>103.000000</td>\n",
       "      <td>1.000000</td>\n",
       "      <td>-1.000000</td>\n",
       "      <td>0.000000</td>\n",
       "    </tr>\n",
       "    <tr>\n",
       "      <td>50%</td>\n",
       "      <td>39.000000</td>\n",
       "      <td>448.000000</td>\n",
       "      <td>16.000000</td>\n",
       "      <td>180.000000</td>\n",
       "      <td>2.000000</td>\n",
       "      <td>-1.000000</td>\n",
       "      <td>0.000000</td>\n",
       "    </tr>\n",
       "    <tr>\n",
       "      <td>75%</td>\n",
       "      <td>48.000000</td>\n",
       "      <td>1428.000000</td>\n",
       "      <td>21.000000</td>\n",
       "      <td>319.000000</td>\n",
       "      <td>3.000000</td>\n",
       "      <td>-1.000000</td>\n",
       "      <td>0.000000</td>\n",
       "    </tr>\n",
       "    <tr>\n",
       "      <td>max</td>\n",
       "      <td>95.000000</td>\n",
       "      <td>102127.000000</td>\n",
       "      <td>31.000000</td>\n",
       "      <td>4918.000000</td>\n",
       "      <td>63.000000</td>\n",
       "      <td>871.000000</td>\n",
       "      <td>275.000000</td>\n",
       "    </tr>\n",
       "  </tbody>\n",
       "</table>\n",
       "</div>"
      ],
      "text/plain": [
       "                age        balance           day      duration      campaign  \\\n",
       "count  45211.000000   45211.000000  45211.000000  45211.000000  45211.000000   \n",
       "mean      40.936210    1362.272058     15.806419    258.163080      2.763841   \n",
       "std       10.618762    3044.765829      8.322476    257.527812      3.098021   \n",
       "min       18.000000   -8019.000000      1.000000      0.000000      1.000000   \n",
       "25%       33.000000      72.000000      8.000000    103.000000      1.000000   \n",
       "50%       39.000000     448.000000     16.000000    180.000000      2.000000   \n",
       "75%       48.000000    1428.000000     21.000000    319.000000      3.000000   \n",
       "max       95.000000  102127.000000     31.000000   4918.000000     63.000000   \n",
       "\n",
       "              pdays      previous  \n",
       "count  45211.000000  45211.000000  \n",
       "mean      40.197828      0.580323  \n",
       "std      100.128746      2.303441  \n",
       "min       -1.000000      0.000000  \n",
       "25%       -1.000000      0.000000  \n",
       "50%       -1.000000      0.000000  \n",
       "75%       -1.000000      0.000000  \n",
       "max      871.000000    275.000000  "
      ]
     },
     "execution_count": 5,
     "metadata": {},
     "output_type": "execute_result"
    }
   ],
   "source": [
    "dataset.describe()"
   ]
  },
  {
   "cell_type": "markdown",
   "metadata": {},
   "source": [
    "# 3. Data Analysis"
   ]
  },
  {
   "cell_type": "markdown",
   "metadata": {},
   "source": [
    "We could see that the majority of phone calls are failures. This is a clear imbalanced dataset: "
   ]
  },
  {
   "cell_type": "code",
   "execution_count": 6,
   "metadata": {},
   "outputs": [
    {
     "data": {
      "text/plain": [
       "no     39922\n",
       "yes     5289\n",
       "Name: y, dtype: int64"
      ]
     },
     "execution_count": 6,
     "metadata": {},
     "output_type": "execute_result"
    }
   ],
   "source": [
    "#Counting the values in the target feature\n",
    "Target = dataset[\"y\"]\n",
    "Target.value_counts()"
   ]
  },
  {
   "cell_type": "markdown",
   "metadata": {},
   "source": [
    "Let's plotting the target feature:"
   ]
  },
  {
   "cell_type": "code",
   "execution_count": 7,
   "metadata": {},
   "outputs": [
    {
     "data": {
      "image/png": "[encoded data removed]",
      "text/plain": [
       "<Figure size 432x288 with 1 Axes>"
      ]
     },
     "metadata": {
      "needs_background": "light"
     },
     "output_type": "display_data"
    }
   ],
   "source": [
    "#Plotting the target\n",
    "Data_Target = {\"Categories\":[\"Failure\",\"Success\"] , \"Values\":[39922,5289]}\n",
    "Plot_Target = pd.DataFrame(data = Data_Target)\n",
    "Plot_Target.plot(x = \"Categories\", y = \"Values\", kind = \"bar\")\n",
    "plt.show()"
   ]
  },
  {
   "cell_type": "markdown",
   "metadata": {},
   "source": [
    "The majority of bank clients have at least secondary education:"
   ]
  },
  {
   "cell_type": "code",
   "execution_count": 8,
   "metadata": {},
   "outputs": [
    {
     "data": {
      "text/plain": [
       "secondary    23202\n",
       "tertiary     13301\n",
       "primary       6851\n",
       "unknown       1857\n",
       "Name: education, dtype: int64"
      ]
     },
     "execution_count": 8,
     "metadata": {},
     "output_type": "execute_result"
    }
   ],
   "source": [
    "#Counting eduaction\n",
    "Education = dataset[\"education\"]\n",
    "Education.value_counts()"
   ]
  },
  {
   "cell_type": "markdown",
   "metadata": {},
   "source": [
    "Let's plotting the education feature:"
   ]
  },
  {
   "cell_type": "code",
   "execution_count": 9,
   "metadata": {},
   "outputs": [
    {
     "data": {
      "image/png": "[encoded data removed]",
      "text/plain": [
       "<Figure size 432x288 with 1 Axes>"
      ]
     },
     "metadata": {
      "needs_background": "light"
     },
     "output_type": "display_data"
    }
   ],
   "source": [
    "#Plotting education\n",
    "Data_Education = {\"Categories\":[\"Secondary\",\"Tertiary\",\"Primary\",\"Unknown\"] , \"Values\":[23202,13301,6851,1857]}\n",
    "Plot_Education = pd.DataFrame(data = Data_Education)\n",
    "Plot_Education.plot(x = \"Categories\", y = \"Values\", kind = \"bar\")\n",
    "plt.show()"
   ]
  },
  {
   "cell_type": "markdown",
   "metadata": {},
   "source": [
    "The jobs of the bank clients are large. The majority of thems are blue-collars workers. Other are in management positions. We could see a brief description here:"
   ]
  },
  {
   "cell_type": "code",
   "execution_count": 10,
   "metadata": {},
   "outputs": [
    {
     "data": {
      "text/plain": [
       "blue-collar      9732\n",
       "management       9458\n",
       "technician       7597\n",
       "admin.           5171\n",
       "services         4154\n",
       "retired          2264\n",
       "self-employed    1579\n",
       "entrepreneur     1487\n",
       "unemployed       1303\n",
       "housemaid        1240\n",
       "student           938\n",
       "unknown           288\n",
       "Name: job, dtype: int64"
      ]
     },
     "execution_count": 10,
     "metadata": {},
     "output_type": "execute_result"
    }
   ],
   "source": [
    "#Counting jobs\n",
    "Job = dataset[\"job\"]\n",
    "Job.value_counts()"
   ]
  },
  {
   "cell_type": "markdown",
   "metadata": {},
   "source": [
    "We are going to plot the job feature:"
   ]
  },
  {
   "cell_type": "code",
   "execution_count": 11,
   "metadata": {},
   "outputs": [
    {
     "data": {
      "image/png": "[encoded data removed]",
      "text/plain": [
       "<Figure size 432x288 with 1 Axes>"
      ]
     },
     "metadata": {
      "needs_background": "light"
     },
     "output_type": "display_data"
    }
   ],
   "source": [
    "#Plotting the job\n",
    "Data_Job = {\"Categories\": [\"Blue-Collar\", \"Management\", \"Technician\", \"Admin\", \"Services\", \"Retired\", \"Self-Employed\", \"Entrepeneur\", \"Unemployed\", \"Housemaid\", \"Student\", \"Unknown\"], \"Values\": [9732, 9458, 7597, 5171, 4154, 2264, 1579, 1487, 1303, 1240, 938, 288]}\n",
    "Plot_Job = pd.DataFrame(data = Data_Job)\n",
    "Plot_Job.plot(x = \"Categories\", y = \"Values\", kind = \"bar\")\n",
    "plt.show()"
   ]
  },
  {
   "cell_type": "markdown",
   "metadata": {},
   "source": [
    "Again, the majority of clients do not have personal loans with the bank:"
   ]
  },
  {
   "cell_type": "code",
   "execution_count": 12,
   "metadata": {},
   "outputs": [
    {
     "data": {
      "text/plain": [
       "no     37967\n",
       "yes     7244\n",
       "Name: loan, dtype: int64"
      ]
     },
     "execution_count": 12,
     "metadata": {},
     "output_type": "execute_result"
    }
   ],
   "source": [
    "#Counting loans\n",
    "Loan = dataset[\"loan\"]\n",
    "Loan.value_counts()"
   ]
  },
  {
   "cell_type": "markdown",
   "metadata": {},
   "source": [
    "For a better understanding, we are going to plot the loan feature:"
   ]
  },
  {
   "cell_type": "code",
   "execution_count": 13,
   "metadata": {},
   "outputs": [
    {
     "data": {
      "image/png": "[encoded data removed]",
      "text/plain": [
       "<Figure size 432x288 with 1 Axes>"
      ]
     },
     "metadata": {
      "needs_background": "light"
     },
     "output_type": "display_data"
    }
   ],
   "source": [
    "#Plotting loans\n",
    "Data_Loan = {\"Categories\": [\"No personal loan\", \"Personal loan\"], \"Values\": [37967,7244]}\n",
    "Plot_Loan = pd.DataFrame(data = Data_Loan)\n",
    "Plot_Loan.plot(x = \"Categories\", y = \"Values\", kind = \"bar\")\n",
    "plt.show()"
   ]
  },
  {
   "cell_type": "markdown",
   "metadata": {},
   "source": [
    "This is the first marketing campaing for many of the bank clients. Here \"unknown\" means \"non existent\" basically. Moreover, there are a good number of past success (1511) in the bank target.  "
   ]
  },
  {
   "cell_type": "code",
   "execution_count": 14,
   "metadata": {},
   "outputs": [
    {
     "data": {
      "text/plain": [
       "unknown    36959\n",
       "failure     4901\n",
       "other       1840\n",
       "success     1511\n",
       "Name: poutcome, dtype: int64"
      ]
     },
     "execution_count": 14,
     "metadata": {},
     "output_type": "execute_result"
    }
   ],
   "source": [
    "#Counting outcome of previous marketing campaings\n",
    "Previous_Outcome = dataset[\"poutcome\"]\n",
    "Previous_Outcome.value_counts()"
   ]
  },
  {
   "cell_type": "markdown",
   "metadata": {},
   "source": [
    "Finally, plotting the poutcome feature:"
   ]
  },
  {
   "cell_type": "code",
   "execution_count": 15,
   "metadata": {},
   "outputs": [
    {
     "data": {
      "image/png": "[encoded data removed]",
      "text/plain": [
       "<Figure size 432x288 with 1 Axes>"
      ]
     },
     "metadata": {
      "needs_background": "light"
     },
     "output_type": "display_data"
    }
   ],
   "source": [
    "#Plotting outcome of previous marketing campaigns\n",
    "Data_Previous_Outcome = {\"Categories\": [\"Non existent\",\"Failure\",\"Other\",\"Success\"], \"Values\": [36959,4901,1840,1511]}\n",
    "Plot_Previous_Outcome = pd.DataFrame(data =Data_Previous_Outcome)\n",
    "Plot_Previous_Outcome.plot(x = \"Categories\", y = \"Values\", kind = \"bar\")\n",
    "plt.show()"
   ]
  },
  {
   "cell_type": "markdown",
   "metadata": {},
   "source": [
    "# 4. Preprocessing and Modeling"
   ]
  },
  {
   "cell_type": "markdown",
   "metadata": {},
   "source": [
    "Before the feature transformation, we need to separate the predictors (X) from the target (y):"
   ]
  },
  {
   "cell_type": "code",
   "execution_count": 16,
   "metadata": {},
   "outputs": [],
   "source": [
    "#Separation of X and y\n",
    "y = dataset[\"y\"]\n",
    "X = dataset[[\"age\",\"job\",\"marital\",\"education\",\"default\",\"balance\",\"housing\",\"loan\",\"contact\",\"day\",\"month\",\"duration\",\"campaign\",\"pdays\",\"previous\",\"poutcome\"]]"
   ]
  },
  {
   "cell_type": "markdown",
   "metadata": {},
   "source": [
    "Now, we have to split the whole dataset in training and test set:"
   ]
  },
  {
   "cell_type": "code",
   "execution_count": 17,
   "metadata": {},
   "outputs": [],
   "source": [
    "#Splitting the dasatet\n",
    "X_train, X_test, y_train, y_test = train_test_split(X, y, test_size=0.25, stratify=y , random_state = 0)"
   ]
  },
  {
   "cell_type": "markdown",
   "metadata": {},
   "source": [
    "The next step is feature transformation. I will use Label Encoding for the target variable (y) and One-Hot-Encoding for the predictors (X):"
   ]
  },
  {
   "cell_type": "code",
   "execution_count": 18,
   "metadata": {},
   "outputs": [],
   "source": [
    "#Label Encoding\n",
    "Label = LabelEncoder()\n",
    "\n",
    "#Performing Label Encoding\n",
    "y_train = Label.fit_transform(y_train)\n",
    "y_test = Label.fit_transform (y_test)\n",
    "\n",
    "#Performing One-Hot-Encoding\n",
    "X_train_processing = pd.get_dummies(X_train[[\"age\",\"job\",\"marital\",\"education\",\"default\",\"balance\",\"housing\",\"loan\",\"contact\",\"day\",\"month\",\"duration\",\"campaign\",\"pdays\",\"previous\",\"poutcome\"]])\n",
    "X_test_processing = pd.get_dummies(X_test[[\"age\",\"job\",\"marital\",\"education\",\"default\",\"balance\",\"housing\",\"loan\",\"contact\",\"day\",\"month\",\"duration\",\"campaign\",\"pdays\",\"previous\",\"poutcome\"]])"
   ]
  },
  {
   "cell_type": "markdown",
   "metadata": {},
   "source": [
    "For the modeling part, I will import a Decision Tree from Sklearn:"
   ]
  },
  {
   "cell_type": "code",
   "execution_count": 19,
   "metadata": {},
   "outputs": [],
   "source": [
    "#Using cost-sensitive decision tree. This approach can be activated using the parameter class_weight\n",
    "Tree = DecisionTreeClassifier(max_depth=4, random_state=0, class_weight=\"balanced\")"
   ]
  },
  {
   "cell_type": "markdown",
   "metadata": {},
   "source": [
    "Subsequently, we need fitting the tree with our data:"
   ]
  },
  {
   "cell_type": "code",
   "execution_count": 20,
   "metadata": {},
   "outputs": [
    {
     "data": {
      "text/plain": [
       "DecisionTreeClassifier(class_weight='balanced', criterion='gini', max_depth=4,\n",
       "                       max_features=None, max_leaf_nodes=None,\n",
       "                       min_impurity_decrease=0.0, min_impurity_split=None,\n",
       "                       min_samples_leaf=1, min_samples_split=2,\n",
       "                       min_weight_fraction_leaf=0.0, presort=False,\n",
       "                       random_state=0, splitter='best')"
      ]
     },
     "execution_count": 20,
     "metadata": {},
     "output_type": "execute_result"
    }
   ],
   "source": [
    "#Fitting the Tree\n",
    "Tree.fit(X_train_processing, y_train)"
   ]
  },
  {
   "cell_type": "markdown",
   "metadata": {},
   "source": [
    "The previous are the parameters of the Decision Tree."
   ]
  },
  {
   "cell_type": "markdown",
   "metadata": {},
   "source": [
    "# 5. Results"
   ]
  },
  {
   "cell_type": "markdown",
   "metadata": {},
   "source": [
    "#  5.1 Predictions and Metrics"
   ]
  },
  {
   "cell_type": "markdown",
   "metadata": {},
   "source": [
    "Finally, these are the predictions and the score given for the model:"
   ]
  },
  {
   "cell_type": "code",
   "execution_count": 21,
   "metadata": {},
   "outputs": [
    {
     "name": "stdout",
     "output_type": "stream",
     "text": [
      "Class label prediction: \n",
      "[0 0 1 ... 0 1 0]\n",
      "\n",
      "\n",
      "Proba prediction: \n",
      "[[0.85565356 0.14434644]\n",
      " [0.85565356 0.14434644]\n",
      " [0.42863624 0.57136376]\n",
      " ...\n",
      " [0.85565356 0.14434644]\n",
      " [0.42863624 0.57136376]\n",
      " [0.85565356 0.14434644]]\n",
      "\n",
      "\n",
      "Accuracy: \n",
      "0.717508626028488\n"
     ]
    }
   ],
   "source": [
    "#Prediction of the class label\n",
    "Test_Set_Prediction =  Tree.predict(X_test_processing)\n",
    "print(\"Class label prediction: \")\n",
    "print(Test_Set_Prediction)\n",
    "print(\"\\n\")\n",
    "\n",
    "#Prediction of the probabilities\n",
    "Test_Set_Prediction_Proba = Tree.predict_proba(X_test_processing)\n",
    "print(\"Proba prediction: \")\n",
    "print(Test_Set_Prediction_Proba)\n",
    "print(\"\\n\")\n",
    "\n",
    "#Accuracy\n",
    "Test_Set_Score = Tree.score(X_test_processing, y_test)\n",
    "print(\"Accuracy: \")\n",
    "print(Test_Set_Score)"
   ]
  },
  {
   "cell_type": "markdown",
   "metadata": {},
   "source": [
    "# 5.2 Confusion Matrix"
   ]
  },
  {
   "cell_type": "markdown",
   "metadata": {},
   "source": [
    "Since this is an imbalanced dataset, we can’t trust very much in the accuracy. So let’s explore the Normalized Confusion Matrix first, and the Area Under Curve of the ROC curve (AUC-ROC) after."
   ]
  },
  {
   "cell_type": "markdown",
   "metadata": {},
   "source": [
    "Let’s plotting the Normalized Confusion Matrix with the help of Scikitplot:"
   ]
  },
  {
   "cell_type": "code",
   "execution_count": 22,
   "metadata": {},
   "outputs": [
    {
     "data": {
      "text/plain": [
       "<matplotlib.axes._subplots.AxesSubplot at 0x1cdb85dc088>"
      ]
     },
     "execution_count": 22,
     "metadata": {},
     "output_type": "execute_result"
    },
    {
     "data": {
      "image/png": "[encoded data removed]",
      "text/plain": [
       "<Figure size 432x288 with 2 Axes>"
      ]
     },
     "metadata": {
      "needs_background": "light"
     },
     "output_type": "display_data"
    }
   ],
   "source": [
    "#Matrix\n",
    "skplt.metrics.plot_confusion_matrix(y_test, Test_Set_Prediction, normalize=True)"
   ]
  },
  {
   "cell_type": "markdown",
   "metadata": {},
   "source": [
    "A very nice plot!\n"
   ]
  },
  {
   "cell_type": "markdown",
   "metadata": {},
   "source": [
    "We could see that the model classifies correctly the 89% of the telemarketing success. The proportion of failures correctly labeled is slightly low, around 70%. I think it is OK for real-world proposes."
   ]
  },
  {
   "cell_type": "markdown",
   "metadata": {},
   "source": [
    "# 5.3 AUC-ROC"
   ]
  },
  {
   "cell_type": "markdown",
   "metadata": {},
   "source": [
    "Now, for a more structured metric, let’s see the AUC-ROC:"
   ]
  },
  {
   "cell_type": "code",
   "execution_count": 23,
   "metadata": {},
   "outputs": [
    {
     "name": "stdout",
     "output_type": "stream",
     "text": [
      "Proba ROC curve: \n",
      "0.8565136088371232\n",
      "\n",
      "\n",
      "Standar ROC curve: \n",
      "0.79214061937045\n"
     ]
    }
   ],
   "source": [
    "#ROC curve builded with class probabilities\n",
    "proba_roc_curve = metrics.roc_auc_score(y_test, Test_Set_Prediction_Proba[:,1])\n",
    "print(\"Proba ROC curve: \")\n",
    "print(proba_roc_curve)\n",
    "print(\"\\n\")\n",
    "\n",
    "#ROC curve builded with proper prediction (0 or 1)\n",
    "standar_roc_curve = metrics.roc_auc_score(y_test, Test_Set_Prediction)\n",
    "print(\"Standar ROC curve: \")\n",
    "print(standar_roc_curve)"
   ]
  },
  {
   "cell_type": "markdown",
   "metadata": {},
   "source": [
    "Okay, a very good score, considering the results of Moro (2014) in his paper: S. Moro, P. Cortez and P. Rita. A Data-Driven Approach to Predict the Success of Bank Telemarketing. Decision Support Systems, Elsevier, 62:22-31, June 2014."
   ]
  },
  {
   "cell_type": "markdown",
   "metadata": {},
   "source": [
    "Let’s plotting the ROC curve with the help of Scikitplot:"
   ]
  },
  {
   "cell_type": "code",
   "execution_count": 24,
   "metadata": {},
   "outputs": [
    {
     "data": {
      "text/plain": [
       "<matplotlib.axes._subplots.AxesSubplot at 0x1cdb79f4e88>"
      ]
     },
     "execution_count": 24,
     "metadata": {},
     "output_type": "execute_result"
    },
    {
     "data": {
      "image/png": "[encoded data removed]",
      "text/plain": [
       "<Figure size 432x288 with 1 Axes>"
      ]
     },
     "metadata": {
      "needs_background": "light"
     },
     "output_type": "display_data"
    }
   ],
   "source": [
    "#ROC Curve\n",
    "skplt.metrics.plot_roc(y_test, Test_Set_Prediction_Proba)"
   ]
  },
  {
   "cell_type": "markdown",
   "metadata": {},
   "source": [
    "A nice plot of again!"
   ]
  },
  {
   "cell_type": "markdown",
   "metadata": {},
   "source": [
    "This can confirm the findings at the Confusion Matrix."
   ]
  },
  {
   "cell_type": "markdown",
   "metadata": {},
   "source": [
    "# 6. The Final Tree"
   ]
  },
  {
   "cell_type": "markdown",
   "metadata": {},
   "source": [
    "Finally, it would be great if we could visualize the whole tree:"
   ]
  },
  {
   "cell_type": "code",
   "execution_count": 25,
   "metadata": {},
   "outputs": [
    {
     "data": {
      "image/svg+xml": [
       "<?xml version=\"1.0\" encoding=\"UTF-8\" standalone=\"no\"?>\r\n",
       "<!DOCTYPE svg PUBLIC \"-//W3C//DTD SVG 1.1//EN\"\r\n",
       " \"http://www.w3.org/Graphics/SVG/1.1/DTD/svg11.dtd\">\r\n",
       "<!-- Generated by graphviz version 2.38.0 (20140413.2041)\r\n",
       " -->\r\n",
       "<!-- Title: Tree Pages: 1 -->\r\n",
       "<svg width=\"779pt\" height=\"356pt\"\r\n",
       " viewBox=\"0.00 0.00 778.50 356.00\" xmlns=\"http://www.w3.org/2000/svg\" xmlns:xlink=\"http://www.w3.org/1999/xlink\">\r\n",
       "<g id=\"graph0\" class=\"graph\" transform=\"scale(1 1) rotate(0) translate(4 352)\">\r\n",
       "<title>Tree</title>\r\n",
       "<polygon fill=\"white\" stroke=\"none\" points=\"-4,4 -4,-352 774.5,-352 774.5,4 -4,4\"/>\r\n",
       "<!-- 0 -->\r\n",
       "<g id=\"node1\" class=\"node\"><title>0</title>\r\n",
       "<polygon fill=\"#ffffff\" stroke=\"black\" points=\"468,-348 302,-348 302,-280 468,-280 468,-348\"/>\r\n",
       "<text text-anchor=\"middle\" x=\"385\" y=\"-332.8\" font-family=\"Times New Roman,serif\" font-size=\"14.00\">duration &lt;= 206.5</text>\r\n",
       "<text text-anchor=\"middle\" x=\"385\" y=\"-317.8\" font-family=\"Times New Roman,serif\" font-size=\"14.00\">samples = 33908</text>\r\n",
       "<text text-anchor=\"middle\" x=\"385\" y=\"-302.8\" font-family=\"Times New Roman,serif\" font-size=\"14.00\">value = [16954.0, 16954.0]</text>\r\n",
       "<text text-anchor=\"middle\" x=\"385\" y=\"-287.8\" font-family=\"Times New Roman,serif\" font-size=\"14.00\">class = success</text>\r\n",
       "</g>\r\n",
       "<!-- 1 -->\r\n",
       "<g id=\"node2\" class=\"node\"><title>1</title>\r\n",
       "<polygon fill=\"#eca571\" stroke=\"black\" points=\"376,-244 190,-244 190,-176 376,-176 376,-244\"/>\r\n",
       "<text text-anchor=\"middle\" x=\"283\" y=\"-228.8\" font-family=\"Times New Roman,serif\" font-size=\"14.00\">poutcome_success &lt;= 0.5</text>\r\n",
       "<text text-anchor=\"middle\" x=\"283\" y=\"-213.8\" font-family=\"Times New Roman,serif\" font-size=\"14.00\">samples = 19114</text>\r\n",
       "<text text-anchor=\"middle\" x=\"283\" y=\"-198.8\" font-family=\"Times New Roman,serif\" font-size=\"14.00\">value = [10433.666, 2940.346]</text>\r\n",
       "<text text-anchor=\"middle\" x=\"283\" y=\"-183.8\" font-family=\"Times New Roman,serif\" font-size=\"14.00\">class = failure</text>\r\n",
       "</g>\r\n",
       "<!-- 0&#45;&gt;1 -->\r\n",
       "<g id=\"edge1\" class=\"edge\"><title>0&#45;&gt;1</title>\r\n",
       "<path fill=\"none\" stroke=\"black\" d=\"M351.884,-279.884C342.798,-270.798 332.845,-260.845 323.4,-251.4\"/>\r\n",
       "<polygon fill=\"black\" stroke=\"black\" points=\"325.845,-248.896 316.299,-244.299 320.896,-253.845 325.845,-248.896\"/>\r\n",
       "<text text-anchor=\"middle\" x=\"316.299\" y=\"-265.599\" font-family=\"Times New Roman,serif\" font-size=\"14.00\">True</text>\r\n",
       "</g>\r\n",
       "<!-- 16 -->\r\n",
       "<g id=\"node9\" class=\"node\"><title>16</title>\r\n",
       "<polygon fill=\"#95cbf1\" stroke=\"black\" points=\"580,-244 394,-244 394,-176 580,-176 580,-244\"/>\r\n",
       "<text text-anchor=\"middle\" x=\"487\" y=\"-228.8\" font-family=\"Times New Roman,serif\" font-size=\"14.00\">duration &lt;= 474.5</text>\r\n",
       "<text text-anchor=\"middle\" x=\"487\" y=\"-213.8\" font-family=\"Times New Roman,serif\" font-size=\"14.00\">samples = 14794</text>\r\n",
       "<text text-anchor=\"middle\" x=\"487\" y=\"-198.8\" font-family=\"Times New Roman,serif\" font-size=\"14.00\">value = [6520.334, 14013.654]</text>\r\n",
       "<text text-anchor=\"middle\" x=\"487\" y=\"-183.8\" font-family=\"Times New Roman,serif\" font-size=\"14.00\">class = success</text>\r\n",
       "</g>\r\n",
       "<!-- 0&#45;&gt;16 -->\r\n",
       "<g id=\"edge8\" class=\"edge\"><title>0&#45;&gt;16</title>\r\n",
       "<path fill=\"none\" stroke=\"black\" d=\"M418.116,-279.884C427.202,-270.798 437.155,-260.845 446.6,-251.4\"/>\r\n",
       "<polygon fill=\"black\" stroke=\"black\" points=\"449.104,-253.845 453.701,-244.299 444.155,-248.896 449.104,-253.845\"/>\r\n",
       "<text text-anchor=\"middle\" x=\"453.701\" y=\"-265.599\" font-family=\"Times New Roman,serif\" font-size=\"14.00\">False</text>\r\n",
       "</g>\r\n",
       "<!-- 2 -->\r\n",
       "<g id=\"node3\" class=\"node\"><title>2</title>\r\n",
       "<polygon fill=\"#eb9c63\" stroke=\"black\" points=\"186,-140 0,-140 0,-72 186,-72 186,-140\"/>\r\n",
       "<text text-anchor=\"middle\" x=\"93\" y=\"-124.8\" font-family=\"Times New Roman,serif\" font-size=\"14.00\">month_mar &lt;= 0.5</text>\r\n",
       "<text text-anchor=\"middle\" x=\"93\" y=\"-109.8\" font-family=\"Times New Roman,serif\" font-size=\"14.00\">samples = 18709</text>\r\n",
       "<text text-anchor=\"middle\" x=\"93\" y=\"-94.8\" font-family=\"Times New Roman,serif\" font-size=\"14.00\">value = [10302.863, 2196.712]</text>\r\n",
       "<text text-anchor=\"middle\" x=\"93\" y=\"-79.8\" font-family=\"Times New Roman,serif\" font-size=\"14.00\">class = failure</text>\r\n",
       "</g>\r\n",
       "<!-- 1&#45;&gt;2 -->\r\n",
       "<g id=\"edge2\" class=\"edge\"><title>1&#45;&gt;2</title>\r\n",
       "<path fill=\"none\" stroke=\"black\" d=\"M221.312,-175.884C202.885,-165.991 182.542,-155.07 163.59,-144.895\"/>\r\n",
       "<polygon fill=\"black\" stroke=\"black\" points=\"165.169,-141.771 154.703,-140.125 161.858,-147.938 165.169,-141.771\"/>\r\n",
       "</g>\r\n",
       "<!-- 9 -->\r\n",
       "<g id=\"node6\" class=\"node\"><title>9</title>\r\n",
       "<polygon fill=\"#5caeea\" stroke=\"black\" points=\"370,-140 204,-140 204,-72 370,-72 370,-140\"/>\r\n",
       "<text text-anchor=\"middle\" x=\"287\" y=\"-124.8\" font-family=\"Times New Roman,serif\" font-size=\"14.00\">duration &lt;= 129.5</text>\r\n",
       "<text text-anchor=\"middle\" x=\"287\" y=\"-109.8\" font-family=\"Times New Roman,serif\" font-size=\"14.00\">samples = 405</text>\r\n",
       "<text text-anchor=\"middle\" x=\"287\" y=\"-94.8\" font-family=\"Times New Roman,serif\" font-size=\"14.00\">value = [130.803, 743.634]</text>\r\n",
       "<text text-anchor=\"middle\" x=\"287\" y=\"-79.8\" font-family=\"Times New Roman,serif\" font-size=\"14.00\">class = success</text>\r\n",
       "</g>\r\n",
       "<!-- 1&#45;&gt;9 -->\r\n",
       "<g id=\"edge5\" class=\"edge\"><title>1&#45;&gt;9</title>\r\n",
       "<path fill=\"none\" stroke=\"black\" d=\"M284.299,-175.884C284.617,-167.778 284.961,-158.982 285.295,-150.472\"/>\r\n",
       "<polygon fill=\"black\" stroke=\"black\" points=\"288.8,-150.429 285.694,-140.299 281.805,-150.155 288.8,-150.429\"/>\r\n",
       "</g>\r\n",
       "<!-- 3 -->\r\n",
       "<g id=\"node4\" class=\"node\"><title>3</title>\r\n",
       "<polygon fill=\"#c0c0c0\" stroke=\"black\" points=\"103,-36 49,-36 49,-0 103,-0 103,-36\"/>\r\n",
       "<text text-anchor=\"middle\" x=\"76\" y=\"-14.3\" font-family=\"Times New Roman,serif\" font-size=\"14.00\">(...)</text>\r\n",
       "</g>\r\n",
       "<!-- 2&#45;&gt;3 -->\r\n",
       "<g id=\"edge3\" class=\"edge\"><title>2&#45;&gt;3</title>\r\n",
       "<path fill=\"none\" stroke=\"black\" d=\"M86.476,-71.9961C84.8093,-63.5646 83.0353,-54.5902 81.43,-46.4696\"/>\r\n",
       "<polygon fill=\"black\" stroke=\"black\" points=\"84.8131,-45.5348 79.4402,-36.4034 77.9459,-46.8923 84.8131,-45.5348\"/>\r\n",
       "</g>\r\n",
       "<!-- 6 -->\r\n",
       "<g id=\"node5\" class=\"node\"><title>6</title>\r\n",
       "<polygon fill=\"#c0c0c0\" stroke=\"black\" points=\"175,-36 121,-36 121,-0 175,-0 175,-36\"/>\r\n",
       "<text text-anchor=\"middle\" x=\"148\" y=\"-14.3\" font-family=\"Times New Roman,serif\" font-size=\"14.00\">(...)</text>\r\n",
       "</g>\r\n",
       "<!-- 2&#45;&gt;6 -->\r\n",
       "<g id=\"edge4\" class=\"edge\"><title>2&#45;&gt;6</title>\r\n",
       "<path fill=\"none\" stroke=\"black\" d=\"M114.107,-71.9961C119.863,-62.9962 126.014,-53.3778 131.475,-44.8393\"/>\r\n",
       "<polygon fill=\"black\" stroke=\"black\" points=\"134.431,-46.7136 136.87,-36.4034 128.534,-42.9422 134.431,-46.7136\"/>\r\n",
       "</g>\r\n",
       "<!-- 10 -->\r\n",
       "<g id=\"node7\" class=\"node\"><title>10</title>\r\n",
       "<polygon fill=\"#c0c0c0\" stroke=\"black\" points=\"259,-36 205,-36 205,-0 259,-0 259,-36\"/>\r\n",
       "<text text-anchor=\"middle\" x=\"232\" y=\"-14.3\" font-family=\"Times New Roman,serif\" font-size=\"14.00\">(...)</text>\r\n",
       "</g>\r\n",
       "<!-- 9&#45;&gt;10 -->\r\n",
       "<g id=\"edge6\" class=\"edge\"><title>9&#45;&gt;10</title>\r\n",
       "<path fill=\"none\" stroke=\"black\" d=\"M265.893,-71.9961C260.137,-62.9962 253.986,-53.3778 248.525,-44.8393\"/>\r\n",
       "<polygon fill=\"black\" stroke=\"black\" points=\"251.466,-42.9422 243.13,-36.4034 245.569,-46.7136 251.466,-42.9422\"/>\r\n",
       "</g>\r\n",
       "<!-- 13 -->\r\n",
       "<g id=\"node8\" class=\"node\"><title>13</title>\r\n",
       "<polygon fill=\"#c0c0c0\" stroke=\"black\" points=\"331,-36 277,-36 277,-0 331,-0 331,-36\"/>\r\n",
       "<text text-anchor=\"middle\" x=\"304\" y=\"-14.3\" font-family=\"Times New Roman,serif\" font-size=\"14.00\">(...)</text>\r\n",
       "</g>\r\n",
       "<!-- 9&#45;&gt;13 -->\r\n",
       "<g id=\"edge7\" class=\"edge\"><title>9&#45;&gt;13</title>\r\n",
       "<path fill=\"none\" stroke=\"black\" d=\"M293.524,-71.9961C295.191,-63.5646 296.965,-54.5902 298.57,-46.4696\"/>\r\n",
       "<polygon fill=\"black\" stroke=\"black\" points=\"302.054,-46.8923 300.56,-36.4034 295.187,-45.5348 302.054,-46.8923\"/>\r\n",
       "</g>\r\n",
       "<!-- 17 -->\r\n",
       "<g id=\"node10\" class=\"node\"><title>17</title>\r\n",
       "<polygon fill=\"#d8ecfa\" stroke=\"black\" points=\"573.5,-140 394.5,-140 394.5,-72 573.5,-72 573.5,-140\"/>\r\n",
       "<text text-anchor=\"middle\" x=\"484\" y=\"-124.8\" font-family=\"Times New Roman,serif\" font-size=\"14.00\">contact_unknown &lt;= 0.5</text>\r\n",
       "<text text-anchor=\"middle\" x=\"484\" y=\"-109.8\" font-family=\"Times New Roman,serif\" font-size=\"14.00\">samples = 10403</text>\r\n",
       "<text text-anchor=\"middle\" x=\"484\" y=\"-94.8\" font-family=\"Times New Roman,serif\" font-size=\"14.00\">value = [5057.152, 6290.973]</text>\r\n",
       "<text text-anchor=\"middle\" x=\"484\" y=\"-79.8\" font-family=\"Times New Roman,serif\" font-size=\"14.00\">class = success</text>\r\n",
       "</g>\r\n",
       "<!-- 16&#45;&gt;17 -->\r\n",
       "<g id=\"edge9\" class=\"edge\"><title>16&#45;&gt;17</title>\r\n",
       "<path fill=\"none\" stroke=\"black\" d=\"M486.026,-175.884C485.788,-167.778 485.529,-158.982 485.279,-150.472\"/>\r\n",
       "<polygon fill=\"black\" stroke=\"black\" points=\"488.772,-150.192 484.979,-140.299 481.775,-150.398 488.772,-150.192\"/>\r\n",
       "</g>\r\n",
       "<!-- 24 -->\r\n",
       "<g id=\"node13\" class=\"node\"><title>24</title>\r\n",
       "<polygon fill=\"#5fb0ea\" stroke=\"black\" points=\"770.5,-140 591.5,-140 591.5,-72 770.5,-72 770.5,-140\"/>\r\n",
       "<text text-anchor=\"middle\" x=\"681\" y=\"-124.8\" font-family=\"Times New Roman,serif\" font-size=\"14.00\">duration &lt;= 637.5</text>\r\n",
       "<text text-anchor=\"middle\" x=\"681\" y=\"-109.8\" font-family=\"Times New Roman,serif\" font-size=\"14.00\">samples = 4391</text>\r\n",
       "<text text-anchor=\"middle\" x=\"681\" y=\"-94.8\" font-family=\"Times New Roman,serif\" font-size=\"14.00\">value = [1463.182, 7722.682]</text>\r\n",
       "<text text-anchor=\"middle\" x=\"681\" y=\"-79.8\" font-family=\"Times New Roman,serif\" font-size=\"14.00\">class = success</text>\r\n",
       "</g>\r\n",
       "<!-- 16&#45;&gt;24 -->\r\n",
       "<g id=\"edge12\" class=\"edge\"><title>16&#45;&gt;24</title>\r\n",
       "<path fill=\"none\" stroke=\"black\" d=\"M549.986,-175.884C568.802,-165.991 589.573,-155.07 608.924,-144.895\"/>\r\n",
       "<polygon fill=\"black\" stroke=\"black\" points=\"610.776,-147.876 617.998,-140.125 607.518,-141.681 610.776,-147.876\"/>\r\n",
       "</g>\r\n",
       "<!-- 18 -->\r\n",
       "<g id=\"node11\" class=\"node\"><title>18</title>\r\n",
       "<polygon fill=\"#c0c0c0\" stroke=\"black\" points=\"475,-36 421,-36 421,-0 475,-0 475,-36\"/>\r\n",
       "<text text-anchor=\"middle\" x=\"448\" y=\"-14.3\" font-family=\"Times New Roman,serif\" font-size=\"14.00\">(...)</text>\r\n",
       "</g>\r\n",
       "<!-- 17&#45;&gt;18 -->\r\n",
       "<g id=\"edge10\" class=\"edge\"><title>17&#45;&gt;18</title>\r\n",
       "<path fill=\"none\" stroke=\"black\" d=\"M470.184,-71.9961C466.536,-63.2804 462.645,-53.9846 459.156,-45.6514\"/>\r\n",
       "<polygon fill=\"black\" stroke=\"black\" points=\"462.375,-44.2763 455.285,-36.4034 455.918,-46.9793 462.375,-44.2763\"/>\r\n",
       "</g>\r\n",
       "<!-- 21 -->\r\n",
       "<g id=\"node12\" class=\"node\"><title>21</title>\r\n",
       "<polygon fill=\"#c0c0c0\" stroke=\"black\" points=\"547,-36 493,-36 493,-0 547,-0 547,-36\"/>\r\n",
       "<text text-anchor=\"middle\" x=\"520\" y=\"-14.3\" font-family=\"Times New Roman,serif\" font-size=\"14.00\">(...)</text>\r\n",
       "</g>\r\n",
       "<!-- 17&#45;&gt;21 -->\r\n",
       "<g id=\"edge11\" class=\"edge\"><title>17&#45;&gt;21</title>\r\n",
       "<path fill=\"none\" stroke=\"black\" d=\"M497.816,-71.9961C501.464,-63.2804 505.355,-53.9846 508.844,-45.6514\"/>\r\n",
       "<polygon fill=\"black\" stroke=\"black\" points=\"512.082,-46.9793 512.715,-36.4034 505.625,-44.2763 512.082,-46.9793\"/>\r\n",
       "</g>\r\n",
       "<!-- 25 -->\r\n",
       "<g id=\"node14\" class=\"node\"><title>25</title>\r\n",
       "<polygon fill=\"#c0c0c0\" stroke=\"black\" points=\"672,-36 618,-36 618,-0 672,-0 672,-36\"/>\r\n",
       "<text text-anchor=\"middle\" x=\"645\" y=\"-14.3\" font-family=\"Times New Roman,serif\" font-size=\"14.00\">(...)</text>\r\n",
       "</g>\r\n",
       "<!-- 24&#45;&gt;25 -->\r\n",
       "<g id=\"edge13\" class=\"edge\"><title>24&#45;&gt;25</title>\r\n",
       "<path fill=\"none\" stroke=\"black\" d=\"M667.184,-71.9961C663.536,-63.2804 659.645,-53.9846 656.156,-45.6514\"/>\r\n",
       "<polygon fill=\"black\" stroke=\"black\" points=\"659.375,-44.2763 652.285,-36.4034 652.918,-46.9793 659.375,-44.2763\"/>\r\n",
       "</g>\r\n",
       "<!-- 28 -->\r\n",
       "<g id=\"node15\" class=\"node\"><title>28</title>\r\n",
       "<polygon fill=\"#c0c0c0\" stroke=\"black\" points=\"744,-36 690,-36 690,-0 744,-0 744,-36\"/>\r\n",
       "<text text-anchor=\"middle\" x=\"717\" y=\"-14.3\" font-family=\"Times New Roman,serif\" font-size=\"14.00\">(...)</text>\r\n",
       "</g>\r\n",
       "<!-- 24&#45;&gt;28 -->\r\n",
       "<g id=\"edge14\" class=\"edge\"><title>24&#45;&gt;28</title>\r\n",
       "<path fill=\"none\" stroke=\"black\" d=\"M694.816,-71.9961C698.464,-63.2804 702.355,-53.9846 705.844,-45.6514\"/>\r\n",
       "<polygon fill=\"black\" stroke=\"black\" points=\"709.082,-46.9793 709.715,-36.4034 702.625,-44.2763 709.082,-46.9793\"/>\r\n",
       "</g>\r\n",
       "</g>\r\n",
       "</svg>\r\n"
      ],
      "text/plain": [
       "<graphviz.files.Source at 0x1cdb79eeb48>"
      ]
     },
     "execution_count": 25,
     "metadata": {},
     "output_type": "execute_result"
    }
   ],
   "source": [
    "#Plotting the tree\n",
    "export_graphviz(Tree, out_file=\"tree.dot\", class_names=[\"failure\",\"success\"], max_depth=2, rotate=False, feature_names= X_train_processing.columns ,impurity=False, filled=True)\n",
    "\n",
    "with open(\"tree.dot\") as f:\n",
    " dot_graph = f.read()\n",
    "graph = graphviz.Source(dot_graph)\n",
    "graph"
   ]
  },
  {
   "cell_type": "markdown",
   "metadata": {},
   "source": [
    "On the other hand, it could be useful for business decision makers to know which predictors (X) are the highest correlated with the telemarketing success. Therefore, plotting the list of feature importance:"
   ]
  },
  {
   "cell_type": "code",
   "execution_count": 26,
   "metadata": {},
   "outputs": [
    {
     "data": {
      "text/plain": [
       "<matplotlib.axes._subplots.AxesSubplot at 0x1cdb80d6fc8>"
      ]
     },
     "execution_count": 26,
     "metadata": {},
     "output_type": "execute_result"
    },
    {
     "data": {
      "image/png": "[encoded data removed]",
      "text/plain": [
       "<Figure size 432x288 with 1 Axes>"
      ]
     },
     "metadata": {
      "needs_background": "light"
     },
     "output_type": "display_data"
    }
   ],
   "source": [
    "#Feature Importance\n",
    "skplt.estimators.plot_feature_importances(Tree, title=\"Feature Importance\", x_tick_rotation=45, max_num_features=4, feature_names = X_train_processing.columns)"
   ]
  },
  {
   "cell_type": "markdown",
   "metadata": {},
   "source": [
    "If you have read up to here, I really appreciate any feedback of you. I am a truly passionate about Data Science and Machine Learning so all type of comments are welcomed."
   ]
  }
 ],
 "metadata": {
  "kernelspec": {
   "display_name": "Python 3",
   "language": "python",
   "name": "python3"
  },
  "language_info": {
   "codemirror_mode": {
    "name": "ipython",
    "version": 3
   },
   "file_extension": ".py",
   "mimetype": "text/x-python",
   "name": "python",
   "nbconvert_exporter": "python",
   "pygments_lexer": "ipython3",
   "version": "3.7.4"
  }
 },
 "nbformat": 4,
 "nbformat_minor": 2
}
